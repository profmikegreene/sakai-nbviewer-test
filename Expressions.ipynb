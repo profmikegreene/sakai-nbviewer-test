{
  "nbformat": 4,
  "nbformat_minor": 0,
  "metadata": {
    "colab": {
      "name": "Expressions.ipynb",
      "provenance": [],
      "collapsed_sections": []
    },
    "kernelspec": {
      "name": "python3",
      "display_name": "Python 3"
    }
  },
  "cells": [
    {
      "cell_type": "markdown",
      "metadata": {
        "id": "xSoY6pRK70HD",
        "colab_type": "text"
      },
      "source": [
        "# Expressions"
      ]
    },
    {
      "cell_type": "markdown",
      "metadata": {
        "id": "ZDZ1PUsD75yu",
        "colab_type": "text"
      },
      "source": [
        "Regular computer keyboards do not include many math symbols, so we need to get creative with writing mathematical expressions. For example, for multiplication we use the asterisk `*`. For exponents, we use the double asterisk `**` . For division we use `/`. \n",
        "\n",
        "When we string operators together, Python must decide the **order** in which to evaluate the operations. The order is:\n",
        "\n",
        "parenthesis\n",
        "\n",
        "1.   parenthesis\n",
        "2.   exponentiation\n",
        "3.   multiplication, division, remainder\n",
        "4.   addition and subtraction\n",
        "5.   left to right\n",
        "\n",
        "When in doubt, use parentheses. \n",
        "\n",
        "There are several different **types** of variables, literals, and constants. Operations such as `+` and `-` mean different things for different types of variables, so it is important to keep track of what type of variable Python has assigned. We can determine the type of a variable using the `type()` function. "
      ]
    },
    {
      "cell_type": "code",
      "metadata": {
        "id": "5g4a7rh97nig",
        "colab_type": "code",
        "outputId": "fd1f1269-08f4-4700-ea7b-5cc169667ed5",
        "colab": {
          "base_uri": "https://localhost:8080/",
          "height": 34
        }
      },
      "source": [
        "type('hello')"
      ],
      "execution_count": 0,
      "outputs": [
        {
          "output_type": "execute_result",
          "data": {
            "text/plain": [
              "str"
            ]
          },
          "metadata": {
            "tags": []
          },
          "execution_count": 7
        }
      ]
    },
    {
      "cell_type": "code",
      "metadata": {
        "id": "eAXTfgeX8xkW",
        "colab_type": "code",
        "outputId": "9a08e27e-09ad-44eb-ca6c-26d87464ce6c",
        "colab": {
          "base_uri": "https://localhost:8080/",
          "height": 34
        }
      },
      "source": [
        "type(1)"
      ],
      "execution_count": 0,
      "outputs": [
        {
          "output_type": "execute_result",
          "data": {
            "text/plain": [
              "int"
            ]
          },
          "metadata": {
            "tags": []
          },
          "execution_count": 8
        }
      ]
    },
    {
      "cell_type": "code",
      "metadata": {
        "id": "hi5EmPyE8yyu",
        "colab_type": "code",
        "outputId": "3efb8c07-78d2-4cd1-9368-15cbca02abc0",
        "colab": {
          "base_uri": "https://localhost:8080/",
          "height": 34
        }
      },
      "source": [
        "type(98.6)"
      ],
      "execution_count": 0,
      "outputs": [
        {
          "output_type": "execute_result",
          "data": {
            "text/plain": [
              "float"
            ]
          },
          "metadata": {
            "tags": []
          },
          "execution_count": 9
        }
      ]
    },
    {
      "cell_type": "markdown",
      "metadata": {
        "id": "z_HinY8384oH",
        "colab_type": "text"
      },
      "source": [
        "Numeric variables can be converted between `float` and `int` types by using the `float()` and `int()` functions. "
      ]
    },
    {
      "cell_type": "code",
      "metadata": {
        "id": "posS6n3k82fN",
        "colab_type": "code",
        "outputId": "faa58687-5bb9-4e12-c70e-50e708a229c2",
        "colab": {
          "base_uri": "https://localhost:8080/",
          "height": 34
        }
      },
      "source": [
        "i = 42\n",
        "type(i)"
      ],
      "execution_count": 0,
      "outputs": [
        {
          "output_type": "execute_result",
          "data": {
            "text/plain": [
              "int"
            ]
          },
          "metadata": {
            "tags": []
          },
          "execution_count": 10
        }
      ]
    },
    {
      "cell_type": "code",
      "metadata": {
        "id": "1XG8Nwmn9Ef-",
        "colab_type": "code",
        "outputId": "a094928c-8a7a-4a58-cbb5-601d92b5e24d",
        "colab": {
          "base_uri": "https://localhost:8080/",
          "height": 34
        }
      },
      "source": [
        "f = float(i)\n",
        "type(f)"
      ],
      "execution_count": 0,
      "outputs": [
        {
          "output_type": "execute_result",
          "data": {
            "text/plain": [
              "float"
            ]
          },
          "metadata": {
            "tags": []
          },
          "execution_count": 11
        }
      ]
    },
    {
      "cell_type": "markdown",
      "metadata": {
        "id": "jKBEznXe9Hnh",
        "colab_type": "text"
      },
      "source": [
        "We can also convert variables between `str` and `int`, but only if the variable contains numbers only. For example, \"123\" can be either a string or an integer. \"12G\" can be a string only. Depending on the type, operations such as `+` have different meanings."
      ]
    },
    {
      "cell_type": "code",
      "metadata": {
        "id": "6QhT_HVt9GRH",
        "colab_type": "code",
        "outputId": "5b38f8ad-be0a-4b3a-cd3e-4a56e8112b7b",
        "colab": {
          "base_uri": "https://localhost:8080/",
          "height": 34
        }
      },
      "source": [
        "# this is a string\n",
        "sval = '100.0'\n",
        "sval = sval + '1'\n",
        "print (sval)"
      ],
      "execution_count": 0,
      "outputs": [
        {
          "output_type": "stream",
          "text": [
            "100.01\n"
          ],
          "name": "stdout"
        }
      ]
    },
    {
      "cell_type": "code",
      "metadata": {
        "id": "Sao9FIia9bV1",
        "colab_type": "code",
        "outputId": "adcc5cf7-97dd-402c-e167-a11dfb3fc3c5",
        "colab": {
          "base_uri": "https://localhost:8080/",
          "height": 34
        }
      },
      "source": [
        "# this is an integer\n",
        "ival = 100.0\n",
        "ival = ival + 1\n",
        "print (ival)"
      ],
      "execution_count": 0,
      "outputs": [
        {
          "output_type": "stream",
          "text": [
            "101.0\n"
          ],
          "name": "stdout"
        }
      ]
    },
    {
      "cell_type": "markdown",
      "metadata": {
        "id": "9qnv98-S9eSh",
        "colab_type": "text"
      },
      "source": [
        "The `input()` function instructs Python to read data from the user. The user input is stored as a string. If we want to read a number from the user, then we need to first read the number as a string, then convert it to `int` or `float`. "
      ]
    },
    {
      "cell_type": "code",
      "metadata": {
        "id": "Z8GK7EU39dAE",
        "colab_type": "code",
        "outputId": "a1b56b43-5ebb-4efe-8b92-88cf866a996b",
        "colab": {
          "base_uri": "https://localhost:8080/",
          "height": 34
        }
      },
      "source": [
        "name = input('Who are you?')"
      ],
      "execution_count": 0,
      "outputs": [
        {
          "output_type": "stream",
          "text": [
            "Who are you?Dr. Chuck\n"
          ],
          "name": "stdout"
        }
      ]
    },
    {
      "cell_type": "code",
      "metadata": {
        "id": "kHSnsiZ19o-6",
        "colab_type": "code",
        "outputId": "a07ccb84-4609-433d-9e8b-fc53d547bfd6",
        "colab": {
          "base_uri": "https://localhost:8080/",
          "height": 34
        }
      },
      "source": [
        "print('Welcome', name)"
      ],
      "execution_count": 0,
      "outputs": [
        {
          "output_type": "stream",
          "text": [
            "Welcome Dr. Chuck\n"
          ],
          "name": "stdout"
        }
      ]
    },
    {
      "cell_type": "code",
      "metadata": {
        "id": "E8Ae8Kyf9sz2",
        "colab_type": "code",
        "outputId": "08f2ff38-ed10-4366-ecff-3872405d5157",
        "colab": {
          "base_uri": "https://localhost:8080/",
          "height": 34
        }
      },
      "source": [
        "# convert the input to integer\n",
        "inp = input('Europe floor?')"
      ],
      "execution_count": 0,
      "outputs": [
        {
          "output_type": "stream",
          "text": [
            "Europe floor?2\n"
          ],
          "name": "stdout"
        }
      ]
    },
    {
      "cell_type": "code",
      "metadata": {
        "id": "MdVBbp2c9vTm",
        "colab_type": "code",
        "outputId": "40a395ba-6c75-46bd-a4ec-0371344adc3c",
        "colab": {
          "base_uri": "https://localhost:8080/",
          "height": 34
        }
      },
      "source": [
        "usf = int(inp) + 1\n",
        "print ('US floor', usf)"
      ],
      "execution_count": 0,
      "outputs": [
        {
          "output_type": "stream",
          "text": [
            "US floor 3\n"
          ],
          "name": "stdout"
        }
      ]
    },
    {
      "cell_type": "code",
      "metadata": {
        "id": "7r0rPlGg9zLm",
        "colab_type": "code",
        "colab": {}
      },
      "source": [
        ""
      ],
      "execution_count": 0,
      "outputs": []
    }
  ]
}